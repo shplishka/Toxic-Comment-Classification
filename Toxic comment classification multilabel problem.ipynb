{
 "cells": [
  {
   "cell_type": "code",
   "execution_count": 1,
   "metadata": {
    "_cell_guid": "5d1ad415-bb0f-4cbe-9795-6f33b5f895ff",
    "_uuid": "0e2081b3b92775a3cdbe723843d2c383d40df897",
    "collapsed": true
   },
   "outputs": [],
   "source": [
    "import pandas as pd\n",
    "import matplotlib.pyplot as plt\n",
    "import numpy as np\n",
    "from sklearn.multiclass import OneVsRestClassifier\n",
    "from sklearn.linear_model import SGDClassifier\n",
    "from sklearn.feature_extraction.text import TfidfVectorizer\n",
    "\n",
    "\n",
    "data_train_file  = './train.csv'\n",
    "train_data = pd.read_csv(data_train_file)\n",
    "data_test_file  = \"./test.csv\"\n",
    "test_data = pd.read_csv(data_test_file)"
   ]
  },
  {
   "cell_type": "markdown",
   "metadata": {},
   "source": [
    "### CHECKING TRAIN DATA"
   ]
  },
  {
   "cell_type": "code",
   "execution_count": 2,
   "metadata": {
    "_cell_guid": "24a983a1-b6fd-4fc5-8791-b30a0862e10e",
    "_uuid": "e51b0ae011562a9ad84ec68ec5cc5c295cd45498",
    "collapsed": false
   },
   "outputs": [
    {
     "name": "stdout",
     "output_type": "stream",
     "text": [
      "                      id                                       comment_text  \\\n",
      "0       0000997932d777bf  Explanation\\nWhy the edits made under my usern...   \n",
      "1       000103f0d9cfb60f  D'aww! He matches this background colour I'm s...   \n",
      "2       000113f07ec002fd  Hey man, I'm really not trying to edit war. It...   \n",
      "3       0001b41b1c6bb37e  \"\\nMore\\nI can't make any real suggestions on ...   \n",
      "4       0001d958c54c6e35  You, sir, are my hero. Any chance you remember...   \n",
      "5       00025465d4725e87  \"\\n\\nCongratulations from me as well, use the ...   \n",
      "6       0002bcb3da6cb337       COCKSUCKER BEFORE YOU PISS AROUND ON MY WORK   \n",
      "7       00031b1e95af7921  Your vandalism to the Matt Shirvington article...   \n",
      "8       00037261f536c51d  Sorry if the word 'nonsense' was offensive to ...   \n",
      "9       00040093b2687caa  alignment on this subject and which are contra...   \n",
      "10      0005300084f90edc  \"\\nFair use rationale for Image:Wonju.jpg\\n\\nT...   \n",
      "11      00054a5e18b50dd4  bbq \\n\\nbe a man and lets discuss it-maybe ove...   \n",
      "12      0005c987bdfc9d4b  Hey... what is it..\\n@ | talk .\\nWhat is it......   \n",
      "13      0006f16e4e9f292e  Before you start throwing accusations and warn...   \n",
      "14      00070ef96486d6f9  Oh, and the girl above started her arguments w...   \n",
      "15      00078f8ce7eb276d  \"\\n\\nJuelz Santanas Age\\n\\nIn 2002, Juelz Sant...   \n",
      "16      0007e25b2121310b  Bye! \\n\\nDon't look, come or think of comming ...   \n",
      "17      000897889268bc93   REDIRECT Talk:Voydan Pop Georgiev- Chernodrinski   \n",
      "18      0009801bd85e5806  The Mitsurugi point made no sense - why not ar...   \n",
      "19      0009eaea3325de8c  Don't mean to bother you \\n\\nI see that you're...   \n",
      "20      000b08c464718505  \"\\n\\n Regarding your recent edits \\n\\nOnce aga...   \n",
      "21      000bfd0867774845  \"\\nGood to know. About me, yeah, I'm studying ...   \n",
      "22      000c0dfd995809fa  \"\\n\\n Snowflakes are NOT always symmetrical! \\...   \n",
      "23      000c6a3f0cd3ba8e  \"\\n\\n The Signpost: 24 September 2012 \\n\\n Rea...   \n",
      "24      000cfee90f50d471  \"\\n\\nRe-considering 1st paragraph edit?\\nI don...   \n",
      "25      000eefc67a2c930f  Radial symmetry \\n\\nSeveral now extinct lineag...   \n",
      "26      000f35deef84dc4a  There's no need to apologize. A Wikipedia arti...   \n",
      "27      000ffab30195c5e1  Yes, because the mother of the child in the ca...   \n",
      "28      0010307a3a50a353  \"\\nOk. But it will take a bit of work but I ca...   \n",
      "29      0010833a96e1f886  \"== A barnstar for you! ==\\n\\n  The Real Life ...   \n",
      "...                  ...                                                ...   \n",
      "159541  ffa33d3122b599d6  Your absurd edits \\n\\nYour absurd edits on gre...   \n",
      "159542  ffa95244f261527f  maybe he's got better things to do than spend ...   \n",
      "159543  ffad104337fe9891  scrap that, it does meet criteria and its gone...   \n",
      "159544  ffaed63c487a2b42                                You could do worse.   \n",
      "159545  ffb268f37788a011  , 7 March 2011 (UTC)\\nAre you also User:Bmatts...   \n",
      "159546  ffb47123b2d82762  \"\\n\\nHey listen don't you ever!!!! Delete my e...   \n",
      "159547  ffb7b4c3d3ae5842                     Thank you very, very much.  ·✆   \n",
      "159548  ffb93b0a0a1e78f9                        Talkback: 15 September 2012   \n",
      "159549  ffb998f9749bd83e                         2005 (UTC)\\n 06:35, 31 Mar   \n",
      "159550  ffba5332d6b8fd14  i agree/ on another note lil wayne is a talent...   \n",
      "159551  ffbc2db4225258dd  While about half the references are from BYU-I...   \n",
      "159552  ffbcd64a71775e04  Prague Spring \\n\\nI think that Prague Spring d...   \n",
      "159553  ffbd331a3aa269b9  I see this as having been merged; undoing one ...   \n",
      "159554  ffbdbb0483ed0841  and i'm going to keep posting the stuff u dele...   \n",
      "159555  ffc2f409658571f1  \"\\n\\nHow come when you download that MP3 it's ...   \n",
      "159556  ffc671f2acdd80e1  I'll be on IRC, too, if you have a more specif...   \n",
      "159557  ffc7bbb177c3c966  It is my opinion that that happens to be off-t...   \n",
      "159558  ffca1e81aefc48ac  Please stop removing content from Wikipedia; i...   \n",
      "159559  ffca8d71d71a3fae  Image:Barack-obama-mother.jpg listed for delet...   \n",
      "159560  ffcdcb71854f6d8a  \"Editing of article without Consensus & Remova...   \n",
      "159561  ffd2e85b07b3c7e4  \"\\nNo he did not, read it again (I would have ...   \n",
      "159562  ffd72e9766c09c97  \"\\n Auto guides and the motoring press are not...   \n",
      "159563  ffe029a7c79dc7fe  \"\\nplease identify what part of BLP applies be...   \n",
      "159564  ffe897e7f7182c90  Catalan independentism is the social movement ...   \n",
      "159565  ffe8b9316245be30  The numbers in parentheses are the additional ...   \n",
      "159566  ffe987279560d7ff  \":::::And for the second time of asking, when ...   \n",
      "159567  ffea4adeee384e90  You should be ashamed of yourself \\n\\nThat is ...   \n",
      "159568  ffee36eab5c267c9  Spitzer \\n\\nUmm, theres no actual article for ...   \n",
      "159569  fff125370e4aaaf3  And it looks like it was actually you who put ...   \n",
      "159570  fff46fc426af1f9a  \"\\nAnd ... I really don't think you understand...   \n",
      "\n",
      "        toxic  severe_toxic  obscene  threat  insult  identity_hate  \n",
      "0           0             0        0       0       0              0  \n",
      "1           0             0        0       0       0              0  \n",
      "2           0             0        0       0       0              0  \n",
      "3           0             0        0       0       0              0  \n",
      "4           0             0        0       0       0              0  \n",
      "5           0             0        0       0       0              0  \n",
      "6           1             1        1       0       1              0  \n",
      "7           0             0        0       0       0              0  \n",
      "8           0             0        0       0       0              0  \n",
      "9           0             0        0       0       0              0  \n",
      "10          0             0        0       0       0              0  \n",
      "11          0             0        0       0       0              0  \n",
      "12          1             0        0       0       0              0  \n",
      "13          0             0        0       0       0              0  \n",
      "14          0             0        0       0       0              0  \n",
      "15          0             0        0       0       0              0  \n",
      "16          1             0        0       0       0              0  \n",
      "17          0             0        0       0       0              0  \n",
      "18          0             0        0       0       0              0  \n",
      "19          0             0        0       0       0              0  \n",
      "20          0             0        0       0       0              0  \n",
      "21          0             0        0       0       0              0  \n",
      "22          0             0        0       0       0              0  \n",
      "23          0             0        0       0       0              0  \n",
      "24          0             0        0       0       0              0  \n",
      "25          0             0        0       0       0              0  \n",
      "26          0             0        0       0       0              0  \n",
      "27          0             0        0       0       0              0  \n",
      "28          0             0        0       0       0              0  \n",
      "29          0             0        0       0       0              0  \n",
      "...       ...           ...      ...     ...     ...            ...  \n",
      "159541      1             0        1       0       1              0  \n",
      "159542      0             0        0       0       0              0  \n",
      "159543      0             0        0       0       0              0  \n",
      "159544      0             0        0       0       0              0  \n",
      "159545      0             0        0       0       0              0  \n",
      "159546      1             0        0       0       1              0  \n",
      "159547      0             0        0       0       0              0  \n",
      "159548      0             0        0       0       0              0  \n",
      "159549      0             0        0       0       0              0  \n",
      "159550      0             0        0       0       0              0  \n",
      "159551      0             0        0       0       0              0  \n",
      "159552      0             0        0       0       0              0  \n",
      "159553      0             0        0       0       0              0  \n",
      "159554      1             0        1       0       1              0  \n",
      "159555      0             0        0       0       0              0  \n",
      "159556      0             0        0       0       0              0  \n",
      "159557      0             0        0       0       0              0  \n",
      "159558      0             0        0       0       0              0  \n",
      "159559      0             0        0       0       0              0  \n",
      "159560      0             0        0       0       0              0  \n",
      "159561      0             0        0       0       0              0  \n",
      "159562      0             0        0       0       0              0  \n",
      "159563      0             0        0       0       0              0  \n",
      "159564      0             0        0       0       0              0  \n",
      "159565      0             0        0       0       0              0  \n",
      "159566      0             0        0       0       0              0  \n",
      "159567      0             0        0       0       0              0  \n",
      "159568      0             0        0       0       0              0  \n",
      "159569      0             0        0       0       0              0  \n",
      "159570      0             0        0       0       0              0  \n",
      "\n",
      "[159571 rows x 8 columns]\n"
     ]
    }
   ],
   "source": [
    "print(train_data)"
   ]
  },
  {
   "cell_type": "code",
   "execution_count": 3,
   "metadata": {
    "_cell_guid": "9b1aaa43-f7a4-4d0a-b74b-fecf742d4e50",
    "_uuid": "ed89761c556272fecc9eb4c47e2cf2a028c2311a",
    "collapsed": false,
    "scrolled": true
   },
   "outputs": [
    {
     "name": "stdout",
     "output_type": "stream",
     "text": [
      "Index(['id', 'comment_text', 'toxic', 'severe_toxic', 'obscene', 'threat',\n",
      "       'insult', 'identity_hate'],\n",
      "      dtype='object')\n"
     ]
    }
   ],
   "source": [
    "print(train_data.columns)"
   ]
  },
  {
   "cell_type": "code",
   "execution_count": 4,
   "metadata": {
    "_cell_guid": "596ebc68-cdad-42e9-a066-858fe3905553",
    "_uuid": "952b99187c49e32798588445e4e1c5b37a436b41",
    "collapsed": false
   },
   "outputs": [
    {
     "name": "stdout",
     "output_type": "stream",
     "text": [
      "159571\n"
     ]
    }
   ],
   "source": [
    "print(len(train_data))"
   ]
  },
  {
   "cell_type": "markdown",
   "metadata": {},
   "source": [
    "### DATA ANALYSIS"
   ]
  },
  {
   "cell_type": "code",
   "execution_count": 5,
   "metadata": {
    "collapsed": false
   },
   "outputs": [
    {
     "data": {
      "text/plain": [
       "(394.0732213246768, 590.7202819048919, 5000)"
      ]
     },
     "execution_count": 5,
     "metadata": {},
     "output_type": "execute_result"
    }
   ],
   "source": [
    "lens = train_data.comment_text.str.len()\n",
    "lens.mean(), lens.std(), lens.max()"
   ]
  },
  {
   "cell_type": "code",
   "execution_count": 6,
   "metadata": {
    "collapsed": false
   },
   "outputs": [
    {
     "data": {
      "text/plain": [
       "(array([126021.,  20285.,   6626.,   2605.,   1200.,    736.,    569.,\n",
       "           490.,    397.,    642.]),\n",
       " array([   6. ,  505.4, 1004.8, 1504.2, 2003.6, 2503. , 3002.4, 3501.8,\n",
       "        4001.2, 4500.6, 5000. ]),\n",
       " <a list of 10 Patch objects>)"
      ]
     },
     "execution_count": 6,
     "metadata": {},
     "output_type": "execute_result"
    },
    {
     "data": {
      "image/png": "[encoded data removed]",
      "text/plain": [
       "<matplotlib.figure.Figure at 0x198fbff0>"
      ]
     },
     "metadata": {},
     "output_type": "display_data"
    }
   ],
   "source": [
    "plt.hist(lens)"
   ]
  },
  {
   "cell_type": "markdown",
   "metadata": {
    "_cell_guid": "55d91a4f-0695-47c8-a6f4-7c79112623a3",
    "_uuid": "1a3c46df3524cb4286ea4864bf3f2531dea8cea5"
   },
   "source": [
    "### Preparing data for training"
   ]
  },
  {
   "cell_type": "code",
   "execution_count": 7,
   "metadata": {
    "_cell_guid": "8ab7f9ac-f4a3-46cf-8d46-b29fd4f9f201",
    "_uuid": "1f6786b7951574e158b6d901aab178ec132bb6a0",
    "collapsed": false
   },
   "outputs": [
    {
     "name": "stdout",
     "output_type": "stream",
     "text": [
      "0         explanationwhy the edits made under my usernam...\n",
      "1         daww he matches this background colour im seem...\n",
      "2         hey man im really not trying to edit war its j...\n",
      "3         morei cant make any real suggestions on improv...\n",
      "4         you sir are my hero any chance you remember wh...\n",
      "5         congratulations from me as well use the tools ...\n",
      "6              cocksucker before you piss around on my work\n",
      "7         your vandalism to the matt shirvington article...\n",
      "8         sorry if the word nonsense was offensive to yo...\n",
      "9         alignment on this subject and which are contra...\n",
      "10        fair use rationale for imagewonjujpgthanks for...\n",
      "11        bbq be a man and lets discuss itmaybe over the...\n",
      "12        hey what is it  talk what is it an exclusive g...\n",
      "13        before you start throwing accusations and warn...\n",
      "14        oh and the girl above started her arguments wi...\n",
      "15        juelz santanas agein 2002 juelz santana was 18...\n",
      "16        bye dont look come or think of comming back to...\n",
      "17           redirect talkvoydan pop georgiev chernodrinski\n",
      "18        the mitsurugi point made no sense  why not arg...\n",
      "19        dont mean to bother you i see that youre writi...\n",
      "20         regarding your recent edits once again please...\n",
      "21         good to know about me yeah im studying nowdeepu \n",
      "22         snowflakes are not always symmetrical under g...\n",
      "23         the signpost 24 september 2012  read this sig...\n",
      "24        reconsidering 1st paragraph editi dont underst...\n",
      "25        radial symmetry several now extinct lineages i...\n",
      "26        theres no need to apologize a wikipedia articl...\n",
      "27        yes because the mother of the child in the cas...\n",
      "28        ok but it will take a bit of work but i cant q...\n",
      "29         a barnstar for you   the real life barnstar l...\n",
      "                                ...                        \n",
      "159541    your absurd edits your absurd edits on great w...\n",
      "159542    maybe hes got better things to do than spend a...\n",
      "159543    scrap that it does meet criteria and its gone ...\n",
      "159544                                   you could do worse\n",
      "159545     7 march 2011 utcare you also userbmattsonwhat...\n",
      "159546    hey listen dont you ever delete my edits ever ...\n",
      "159547                         thank you very very much  ·✆\n",
      "159548                           talkback 15 september 2012\n",
      "159549                                 2005 utc 0635 31 mar\n",
      "159550    i agree on another note lil wayne is a talentl...\n",
      "159551    while about half the references are from byui ...\n",
      "159552    prague spring i think that prague spring deser...\n",
      "159553    i see this as having been merged undoing one s...\n",
      "159554    and im going to keep posting the stuff u delet...\n",
      "159555    how come when you download that mp3 its titled...\n",
      "159556    ill be on irc too if you have a more specific ...\n",
      "159557    it is my opinion that that happens to be offto...\n",
      "159558    please stop removing content from wikipedia it...\n",
      "159559    imagebarackobamamotherjpg listed for deletion ...\n",
      "159560    editing of article without consensus  removal ...\n",
      "159561    no he did not read it again i would have thoug...\n",
      "159562     auto guides and the motoring press are not go...\n",
      "159563    please identify what part of blp applies becau...\n",
      "159564    catalan independentism is the social movement ...\n",
      "159565    the numbers in parentheses are the additional ...\n",
      "159566    and for the second time of asking when your vi...\n",
      "159567    you should be ashamed of yourself that is a ho...\n",
      "159568    spitzer umm theres no actual article for prost...\n",
      "159569    and it looks like it was actually you who put ...\n",
      "159570    and  i really dont think you understand  i cam...\n",
      "Name: comment, Length: 159571, dtype: object\n"
     ]
    }
   ],
   "source": [
    "def remove_punctuation(text):\n",
    "    import string\n",
    "    text = text.lower()\n",
    "    translator =str.maketrans('', '', string.punctuation)\n",
    "    return (text.translate(translator))\n",
    "\n",
    "\n",
    "train_data['comment'] = train_data['comment_text'].apply(remove_punctuation)\n",
    "train_data['comment'] = train_data['comment'].replace('\\n','', regex=True)\n",
    "\n",
    "## Preprocessed Data\n",
    "print(train_data['comment'])"
   ]
  },
  {
   "cell_type": "markdown",
   "metadata": {
    "_cell_guid": "17f65195-6c4e-49b2-9a72-e716fb8989ba",
    "_uuid": "f51b6c7e15a6285951bafe5d5cf3a27861f816f0"
   },
   "source": [
    "### Preprocess Test data"
   ]
  },
  {
   "cell_type": "code",
   "execution_count": 8,
   "metadata": {
    "_cell_guid": "df12cf1e-a2a4-4cda-8302-f12ed0f2aac8",
    "_uuid": "7efd4e7337630ebc1dc422f086e7da62d873ebad",
    "collapsed": false
   },
   "outputs": [
    {
     "name": "stdout",
     "output_type": "stream",
     "text": [
      "                      id                                       comment_text  \\\n",
      "0       00001cee341fdb12  Yo bitch Ja Rule is more succesful then you'll...   \n",
      "1       0000247867823ef7  == From RfC == \\n\\n The title is fine as it is...   \n",
      "2       00013b17ad220c46  \" \\n\\n == Sources == \\n\\n * Zawe Ashton on Lap...   \n",
      "3       00017563c3f7919a  :If you have a look back at the source, the in...   \n",
      "4       00017695ad8997eb          I don't anonymously edit articles at all.   \n",
      "5       0001ea8717f6de06  Thank you for understanding. I think very high...   \n",
      "6       00024115d4cbde0f  Please do not add nonsense to Wikipedia. Such ...   \n",
      "7       000247e83dcc1211                   :Dear god this site is horrible.   \n",
      "8       00025358d4737918  \" \\n Only a fool can believe in such numbers. ...   \n",
      "9       00026d1092fe71cc  == Double Redirects == \\n\\n When fixing double...   \n",
      "10      0002eadc3b301559  I think its crap that the link to roggenbier i...   \n",
      "11      0002f87b16116a7f  \"::: Somebody will invariably try to add Relig...   \n",
      "12      0003806b11932181  , 25 February 2010 (UTC) \\n\\n :::Looking it ov...   \n",
      "13      0003e1cccfd5a40a  \" \\n\\n It says it right there that it IS a typ...   \n",
      "14      00059ace3e3e9a53  \" \\n\\n == Before adding a new product to the l...   \n",
      "15      000634272d0d44eb  ==Current Position== \\n Anyone have confirmati...   \n",
      "16      000663aff0fffc80                           this other one from 1897   \n",
      "17      000689dd34e20979  == Reason for banning throwing == \\n\\n This ar...   \n",
      "18      000834769115370c  :: Wallamoose was changing the cited material ...   \n",
      "19      000844b52dee5f3f             |blocked]] from editing Wikipedia.   |   \n",
      "20      00084da5d4ead7aa  ==Indefinitely blocked== \\n I have indefinitel...   \n",
      "21      00091c35fa9d0465  == Arabs are committing genocide in Iraq, but ...   \n",
      "22      000968ce11f5ee34  Please stop. If you continue to vandalize Wiki...   \n",
      "23      0009734200a85047  == Energy  == \\n\\n I have edited the introduct...   \n",
      "24      00097b6214686db5  :yeah, thanks for reviving the tradition of pi...   \n",
      "25      0009aef4bd9e1697  MLM Software,NBFC software,Non Banking Financi...   \n",
      "26      000a02d807ae0254  @RedSlash, cut it short. If you have sources s...   \n",
      "27      000a6c6d4e89b9bc  ==================== \\n Deception is the way o...   \n",
      "28      000bafe2080bba82  . \\n\\n           Jews are not a race because y...   \n",
      "29      000bf0a9894b2807  :::If Ollie or others think that one list of t...   \n",
      "...                  ...                                                ...   \n",
      "153134  fff3ae2e177b6bb3  \" \\n\\n == Same coffee shop? == \\n\\n My memory ...   \n",
      "153135  fff4109e837f7acc  SO many things wrong with that viewpoint - fro...   \n",
      "153136  fff4373a81ef9f2a  \" \\n\\n Unless we have an article for some othe...   \n",
      "153137  fff460574ddbcd80  Hannah and Maddie are soooooo awesome and are ...   \n",
      "153138  fff4fc0a1555be5c  :::no problem, I tagged it and cleaned it out....   \n",
      "153139  fff5b9bb944d634c  :PS I've just looked at the history of this ar...   \n",
      "153140  fff5c4a77fe0c05f  \"== Your edit to Maungaturoto == \\n Please don...   \n",
      "153141  fff5fb61bd637c82  :If you wish to contest the prod, please remov...   \n",
      "153142  fff69311f306df44  Balancing the two approaches to psychiatry ( b...   \n",
      "153143  fff6ad63666fb304                                 Ah, suck my balls.   \n",
      "153144  fff7159b3ee95618  == Your name mentioned == \\n Hi, I just though...   \n",
      "153145  fff718ffe5f05559  I've just discovered yet another list: List of...   \n",
      "153146  fff7fc22a0cdccd3  ==Wikiproject Video Games assessment== \\n I do...   \n",
      "153147  fff83b80284d8440  ::Consensus for ruining Wikipedia? I think tha...   \n",
      "153148  fff8ef316d0c6990  == DAP ?  == \\n\\n What's point with DAP ?! Naz...   \n",
      "153149  fff8f521a7dbcd47  shut down the mexican border withought looking...   \n",
      "153150  fff8f64043129fa2  :Jerome, I see you never got around to this…! ...   \n",
      "153151  fff9d70fe0722906  ==Lucky bastard== \\n http://wikimediafoundatio...   \n",
      "153152  fff9fa508f400ee6  ==WTF== \\n It's no longer a redlink.  Now what...   \n",
      "153153  fffa3fae1890b40a  \" \\n\\n ==\"\"Illness\"\" no shit== \\n Just for the...   \n",
      "153154  fffa8a11c4378854  ==shame on you all!!!== \\n\\n You want to speak...   \n",
      "153155  fffac2a094c8e0e2  MEL GIBSON IS A NAZI BITCH WHO MAKES SHITTY MO...   \n",
      "153156  fffb5451268fb5ba  \" \\n\\n == Unicorn lair discovery == \\n\\n Suppo...   \n",
      "153157  fffc2b34bbe61c8d  :Disagree. Soviet railways need their own arti...   \n",
      "153158  fffc489742ffe69b  This idiot can't even use proper grammar when ...   \n",
      "153159  fffcd0960ee309b5  . \\n i totally agree, this stuff is nothing bu...   \n",
      "153160  fffd7a9a6eb32c16  == Throw from out field to home plate. == \\n\\n...   \n",
      "153161  fffda9e8d6fafa9e  \" \\n\\n == Okinotorishima categories == \\n\\n I ...   \n",
      "153162  fffe8f1340a79fc2  \" \\n\\n == \"\"One of the founding nations of the...   \n",
      "153163  ffffce3fb183ee80  \" \\n :::Stop already. Your bullshit is not wel...   \n",
      "\n",
      "                                                  comment  \n",
      "0       yo bitch ja rule is more succesful then youll ...  \n",
      "1               from rfc   the title is fine as it is imo  \n",
      "2                 sources    zawe ashton on lapland —      \n",
      "3       if you have a look back at the source the info...  \n",
      "4                 i dont anonymously edit articles at all  \n",
      "5       thank you for understanding i think very highl...  \n",
      "6       please do not add nonsense to wikipedia such e...  \n",
      "7                          dear god this site is horrible  \n",
      "8         only a fool can believe in such numbers  the...  \n",
      "9        double redirects   when fixing double redirec...  \n",
      "10      i think its crap that the link to roggenbier i...  \n",
      "11       somebody will invariably try to add religion ...  \n",
      "12       25 february 2010 utc  looking it over its cle...  \n",
      "13        it says it right there that it is a type the...  \n",
      "14         before adding a new product to the list mak...  \n",
      "15      current position  anyone have confirmation tha...  \n",
      "16                               this other one from 1897  \n",
      "17       reason for banning throwing   this article ne...  \n",
      "18       wallamoose was changing the cited material to...  \n",
      "19                      blocked from editing wikipedia     \n",
      "20      indefinitely blocked  i have indefinitely bloc...  \n",
      "21       arabs are committing genocide in iraq but no ...  \n",
      "22      please stop if you continue to vandalize wikip...  \n",
      "23       energy    i have edited the introduction beca...  \n",
      "24      yeah thanks for reviving the tradition of piss...  \n",
      "25      mlm softwarenbfc softwarenon banking financial...  \n",
      "26      redslash cut it short if you have sources stat...  \n",
      "27        deception is the way of the ninja  hence fra...  \n",
      "28                  jews are not a race because you ca...  \n",
      "29      if ollie or others think that one list of the ...  \n",
      "...                                                   ...  \n",
      "153134     same coffee shop   my memory of it is shaky...  \n",
      "153135  so many things wrong with that viewpoint  from...  \n",
      "153136    unless we have an article for some other bat...  \n",
      "153137  hannah and maddie are soooooo awesome and are ...  \n",
      "153138  no problem i tagged it and cleaned it out anyo...  \n",
      "153139  ps ive just looked at the history of this arti...  \n",
      "153140   your edit to maungaturoto   please dont try t...  \n",
      "153141  if you wish to contest the prod please remove ...  \n",
      "153142  balancing the two approaches to psychiatry  bi...  \n",
      "153143                                   ah suck my balls  \n",
      "153144   your name mentioned   hi i just thought of le...  \n",
      "153145  ive just discovered yet another list list of c...  \n",
      "153146  wikiproject video games assessment  i dont hav...  \n",
      "153147  consensus for ruining wikipedia i think that c...  \n",
      "153148   dap     whats point with dap  nazism isnt soc...  \n",
      "153149  shut down the mexican border withought looking...  \n",
      "153150  jerome i see you never got around to this… i’m...  \n",
      "153151  lucky bastard  httpwikimediafoundationorgwikip...  \n",
      "153152  wtf  its no longer a redlink  now whats the pr...  \n",
      "153153    illness no shit  just for the record you can...  \n",
      "153154  shame on you all  you want to speak about gays...  \n",
      "153155  mel gibson is a nazi bitch who makes shitty mo...  \n",
      "153156     unicorn lair discovery   supposedly a unico...  \n",
      "153157  disagree soviet railways need their own articl...  \n",
      "153158  this idiot cant even use proper grammar when h...  \n",
      "153159    i totally agree this stuff is nothing but to...  \n",
      "153160   throw from out field to home plate   does it ...  \n",
      "153161     okinotorishima categories   i see your chan...  \n",
      "153162     one of the founding nations of the eu  germ...  \n",
      "153163    stop already your bullshit is not welcome he...  \n",
      "\n",
      "[153164 rows x 3 columns]\n"
     ]
    }
   ],
   "source": [
    "test_data['comment'] = test_data['comment_text'].apply(remove_punctuation)\n",
    "test_data['comment'] = test_data['comment'].replace('\\n','', regex=True)\n",
    "print(test_data)\n"
   ]
  },
  {
   "cell_type": "markdown",
   "metadata": {},
   "source": [
    "### FEATURE EXTRACTION AND TRAINING MODEL"
   ]
  },
  {
   "cell_type": "code",
   "execution_count": 9,
   "metadata": {
    "_cell_guid": "8900373a-7c4b-47c3-ad42-1ba928c8b405",
    "_uuid": "17eb2eb860b67b64d7c35f7fb5a9550ac1441165",
    "collapsed": false
   },
   "outputs": [
    {
     "name": "stderr",
     "output_type": "stream",
     "text": [
      "c:\\users\\ridhima\\appdata\\local\\programs\\python\\python36-32\\lib\\site-packages\\sklearn\\linear_model\\stochastic_gradient.py:128: FutureWarning: max_iter and tol parameters have been added in <class 'sklearn.linear_model.stochastic_gradient.SGDClassifier'> in 0.19. If both are left unset, they default to max_iter=5 and tol=None. If tol is not None, max_iter defaults to max_iter=1000. From 0.21, default max_iter will be 1000, and default tol will be 1e-3.\n",
      "  \"and default tol will be 1e-3.\" % type(self), FutureWarning)\n",
      "c:\\users\\ridhima\\appdata\\local\\programs\\python\\python36-32\\lib\\site-packages\\sklearn\\linear_model\\stochastic_gradient.py:128: FutureWarning: max_iter and tol parameters have been added in <class 'sklearn.linear_model.stochastic_gradient.SGDClassifier'> in 0.19. If both are left unset, they default to max_iter=5 and tol=None. If tol is not None, max_iter defaults to max_iter=1000. From 0.21, default max_iter will be 1000, and default tol will be 1e-3.\n",
      "  \"and default tol will be 1e-3.\" % type(self), FutureWarning)\n",
      "c:\\users\\ridhima\\appdata\\local\\programs\\python\\python36-32\\lib\\site-packages\\sklearn\\linear_model\\stochastic_gradient.py:128: FutureWarning: max_iter and tol parameters have been added in <class 'sklearn.linear_model.stochastic_gradient.SGDClassifier'> in 0.19. If both are left unset, they default to max_iter=5 and tol=None. If tol is not None, max_iter defaults to max_iter=1000. From 0.21, default max_iter will be 1000, and default tol will be 1e-3.\n",
      "  \"and default tol will be 1e-3.\" % type(self), FutureWarning)\n",
      "c:\\users\\ridhima\\appdata\\local\\programs\\python\\python36-32\\lib\\site-packages\\sklearn\\linear_model\\stochastic_gradient.py:128: FutureWarning: max_iter and tol parameters have been added in <class 'sklearn.linear_model.stochastic_gradient.SGDClassifier'> in 0.19. If both are left unset, they default to max_iter=5 and tol=None. If tol is not None, max_iter defaults to max_iter=1000. From 0.21, default max_iter will be 1000, and default tol will be 1e-3.\n",
      "  \"and default tol will be 1e-3.\" % type(self), FutureWarning)\n",
      "c:\\users\\ridhima\\appdata\\local\\programs\\python\\python36-32\\lib\\site-packages\\sklearn\\linear_model\\stochastic_gradient.py:128: FutureWarning: max_iter and tol parameters have been added in <class 'sklearn.linear_model.stochastic_gradient.SGDClassifier'> in 0.19. If both are left unset, they default to max_iter=5 and tol=None. If tol is not None, max_iter defaults to max_iter=1000. From 0.21, default max_iter will be 1000, and default tol will be 1e-3.\n",
      "  \"and default tol will be 1e-3.\" % type(self), FutureWarning)\n",
      "c:\\users\\ridhima\\appdata\\local\\programs\\python\\python36-32\\lib\\site-packages\\sklearn\\linear_model\\stochastic_gradient.py:128: FutureWarning: max_iter and tol parameters have been added in <class 'sklearn.linear_model.stochastic_gradient.SGDClassifier'> in 0.19. If both are left unset, they default to max_iter=5 and tol=None. If tol is not None, max_iter defaults to max_iter=1000. From 0.21, default max_iter will be 1000, and default tol will be 1e-3.\n",
      "  \"and default tol will be 1e-3.\" % type(self), FutureWarning)\n"
     ]
    },
    {
     "data": {
      "text/plain": [
       "OneVsRestClassifier(estimator=SGDClassifier(alpha=0.0001, average=False, class_weight=None, epsilon=0.1,\n",
       "       eta0=0.0, fit_intercept=True, l1_ratio=0.15,\n",
       "       learning_rate='optimal', loss='hinge', max_iter=None, n_iter=None,\n",
       "       n_jobs=1, penalty='l2', power_t=0.5, random_state=None,\n",
       "       shuffle=True, tol=None, verbose=0, warm_start=False),\n",
       "          n_jobs=1)"
      ]
     },
     "execution_count": 9,
     "metadata": {},
     "output_type": "execute_result"
    }
   ],
   "source": [
    "# Taking both train data and test data to calculate features at once\n",
    "data = train_data.append(test_data)\n",
    "#fetching comment for imput\n",
    "Comment = data['comment']\n",
    "Comment = Comment.tolist()\n",
    "#fetching the output labels for each comment\n",
    "y_train = train_data.iloc[:,2:8]\n",
    "y_train = np.array(y_train)\n",
    "\n",
    "\n",
    "\n",
    "## using scikit learn to calculate count vector for each comment\n",
    "## Creating the vectorizer\n",
    "vectorizer = TfidfVectorizer()\n",
    "vectorizer\n",
    "\n",
    "\n",
    "## Calculating count vector of dataset and to be used as an input for my model.\n",
    "X = vectorizer.fit_transform(Comment)\n",
    "X_train = X[0:len(train_data)]\n",
    "X_test = X[len(train_data):]\n",
    "\n",
    "\n",
    "\n",
    "## Creating classifer one vs rest through SVM for training my model\n",
    "classif = OneVsRestClassifier(SGDClassifier(loss=\"hinge\", penalty=\"l2\"))\n",
    "classif.fit(X_train, y_train)"
   ]
  },
  {
   "cell_type": "markdown",
   "metadata": {},
   "source": [
    "### Predicting on test data"
   ]
  },
  {
   "cell_type": "code",
   "execution_count": 10,
   "metadata": {
    "_cell_guid": "a228368d-780f-402e-b136-12c2ec1e31d1",
    "_uuid": "c1d994594d3e75c7164efc5f8b4683ca3b3b5df5",
    "collapsed": false
   },
   "outputs": [
    {
     "name": "stdout",
     "output_type": "stream",
     "text": [
      "[[1 0 1 0 1 0]\n",
      " [0 0 0 0 0 0]\n",
      " [0 0 0 0 0 0]\n",
      " ...\n",
      " [0 0 0 0 0 0]\n",
      " [0 0 0 0 0 0]\n",
      " [0 0 0 0 0 0]]\n"
     ]
    }
   ],
   "source": [
    "y_predict = classif.predict(X_test)\n",
    "print(y_predict)"
   ]
  },
  {
   "cell_type": "markdown",
   "metadata": {},
   "source": [
    "### GENERATING FINAL OUTPUT FOR TEST DATA"
   ]
  },
  {
   "cell_type": "code",
   "execution_count": 11,
   "metadata": {
    "_cell_guid": "a58bde33-f020-4ae0-8686-9dc784245c1d",
    "_uuid": "44c6a4c98ec6eede03018355b56e2603224a181b",
    "collapsed": false
   },
   "outputs": [
    {
     "name": "stdout",
     "output_type": "stream",
     "text": [
      "                      id  toxic  severe_toxic  obscene  threat  insult  \\\n",
      "0       00001cee341fdb12      1             0        1       0       1   \n",
      "1       0000247867823ef7      0             0        0       0       0   \n",
      "2       00013b17ad220c46      0             0        0       0       0   \n",
      "3       00017563c3f7919a      0             0        0       0       0   \n",
      "4       00017695ad8997eb      0             0        0       0       0   \n",
      "5       0001ea8717f6de06      0             0        0       0       0   \n",
      "6       00024115d4cbde0f      0             0        0       0       0   \n",
      "7       000247e83dcc1211      0             0        0       0       0   \n",
      "8       00025358d4737918      0             0        0       0       0   \n",
      "9       00026d1092fe71cc      0             0        0       0       0   \n",
      "10      0002eadc3b301559      0             0        0       0       0   \n",
      "11      0002f87b16116a7f      0             0        0       0       0   \n",
      "12      0003806b11932181      0             0        0       0       0   \n",
      "13      0003e1cccfd5a40a      0             0        0       0       0   \n",
      "14      00059ace3e3e9a53      0             0        0       0       0   \n",
      "15      000634272d0d44eb      0             0        0       0       0   \n",
      "16      000663aff0fffc80      0             0        0       0       0   \n",
      "17      000689dd34e20979      0             0        0       0       0   \n",
      "18      000834769115370c      0             0        0       0       0   \n",
      "19      000844b52dee5f3f      0             0        0       0       0   \n",
      "20      00084da5d4ead7aa      0             0        0       0       0   \n",
      "21      00091c35fa9d0465      0             0        0       0       0   \n",
      "22      000968ce11f5ee34      0             0        0       0       0   \n",
      "23      0009734200a85047      0             0        0       0       0   \n",
      "24      00097b6214686db5      0             0        0       0       0   \n",
      "25      0009aef4bd9e1697      0             0        0       0       0   \n",
      "26      000a02d807ae0254      0             0        0       0       0   \n",
      "27      000a6c6d4e89b9bc      0             0        0       0       0   \n",
      "28      000bafe2080bba82      0             0        0       0       0   \n",
      "29      000bf0a9894b2807      0             0        0       0       0   \n",
      "...                  ...    ...           ...      ...     ...     ...   \n",
      "153134  fff3ae2e177b6bb3      0             0        0       0       0   \n",
      "153135  fff4109e837f7acc      0             0        0       0       0   \n",
      "153136  fff4373a81ef9f2a      0             0        0       0       0   \n",
      "153137  fff460574ddbcd80      0             0        0       0       0   \n",
      "153138  fff4fc0a1555be5c      0             0        0       0       0   \n",
      "153139  fff5b9bb944d634c      0             0        0       0       0   \n",
      "153140  fff5c4a77fe0c05f      0             0        0       0       0   \n",
      "153141  fff5fb61bd637c82      0             0        0       0       0   \n",
      "153142  fff69311f306df44      0             0        0       0       0   \n",
      "153143  fff6ad63666fb304      1             0        1       0       1   \n",
      "153144  fff7159b3ee95618      0             0        0       0       0   \n",
      "153145  fff718ffe5f05559      0             0        0       0       0   \n",
      "153146  fff7fc22a0cdccd3      0             0        0       0       0   \n",
      "153147  fff83b80284d8440      0             0        0       0       0   \n",
      "153148  fff8ef316d0c6990      0             0        0       0       0   \n",
      "153149  fff8f521a7dbcd47      0             0        0       0       0   \n",
      "153150  fff8f64043129fa2      0             0        0       0       0   \n",
      "153151  fff9d70fe0722906      0             0        0       0       0   \n",
      "153152  fff9fa508f400ee6      0             0        0       0       0   \n",
      "153153  fffa3fae1890b40a      1             0        0       0       0   \n",
      "153154  fffa8a11c4378854      0             0        0       0       0   \n",
      "153155  fffac2a094c8e0e2      1             0        1       0       1   \n",
      "153156  fffb5451268fb5ba      0             0        0       0       0   \n",
      "153157  fffc2b34bbe61c8d      0             0        0       0       0   \n",
      "153158  fffc489742ffe69b      1             0        0       0       0   \n",
      "153159  fffcd0960ee309b5      0             0        0       0       0   \n",
      "153160  fffd7a9a6eb32c16      0             0        0       0       0   \n",
      "153161  fffda9e8d6fafa9e      0             0        0       0       0   \n",
      "153162  fffe8f1340a79fc2      0             0        0       0       0   \n",
      "153163  ffffce3fb183ee80      0             0        0       0       0   \n",
      "\n",
      "        identity_hate  \n",
      "0                   0  \n",
      "1                   0  \n",
      "2                   0  \n",
      "3                   0  \n",
      "4                   0  \n",
      "5                   0  \n",
      "6                   0  \n",
      "7                   0  \n",
      "8                   0  \n",
      "9                   0  \n",
      "10                  0  \n",
      "11                  0  \n",
      "12                  0  \n",
      "13                  0  \n",
      "14                  0  \n",
      "15                  0  \n",
      "16                  0  \n",
      "17                  0  \n",
      "18                  0  \n",
      "19                  0  \n",
      "20                  0  \n",
      "21                  0  \n",
      "22                  0  \n",
      "23                  0  \n",
      "24                  0  \n",
      "25                  0  \n",
      "26                  0  \n",
      "27                  0  \n",
      "28                  0  \n",
      "29                  0  \n",
      "...               ...  \n",
      "153134              0  \n",
      "153135              0  \n",
      "153136              0  \n",
      "153137              0  \n",
      "153138              0  \n",
      "153139              0  \n",
      "153140              0  \n",
      "153141              0  \n",
      "153142              0  \n",
      "153143              0  \n",
      "153144              0  \n",
      "153145              0  \n",
      "153146              0  \n",
      "153147              0  \n",
      "153148              0  \n",
      "153149              0  \n",
      "153150              0  \n",
      "153151              0  \n",
      "153152              0  \n",
      "153153              0  \n",
      "153154              0  \n",
      "153155              0  \n",
      "153156              0  \n",
      "153157              0  \n",
      "153158              0  \n",
      "153159              0  \n",
      "153160              0  \n",
      "153161              0  \n",
      "153162              0  \n",
      "153163              0  \n",
      "\n",
      "[153164 rows x 7 columns]\n"
     ]
    }
   ],
   "source": [
    "from collections import OrderedDict\n",
    "id = test_data['id']\n",
    "id.tolist()\n",
    "toxic = y_predict[0:,0]\n",
    "toxic.tolist()\n",
    "severe_toxic = y_predict[0:,1]\n",
    "severe_toxic.tolist()\n",
    "obscene = y_predict[0:,2]\n",
    "obscene.tolist()\n",
    "threat = y_predict[0:,3]\n",
    "threat.tolist()\n",
    "insult = y_predict[0:,4]\n",
    "insult.tolist()\n",
    "identity_hate = y_predict[0:,5]\n",
    "identity_hate.tolist()\n",
    "df = pd.DataFrame( OrderedDict({'id':id,'toxic':toxic,'severe_toxic':severe_toxic,'obscene':obscene,'threat':threat,'insult':insult,'identity_hate':identity_hate}  ) )\n",
    "print(df)"
   ]
  },
  {
   "cell_type": "code",
   "execution_count": 12,
   "metadata": {
    "_cell_guid": "e3e8e4ac-df95-4620-b7c0-80c7b70421dc",
    "_uuid": "e685aa7f2b3d23b2d3ba7e6bbea6f709e86c9702",
    "collapsed": true
   },
   "outputs": [],
   "source": [
    "df.to_csv('submissions_tfidf.csv', sep=',',index=False)"
   ]
  },
  {
   "cell_type": "code",
   "execution_count": 31,
   "metadata": {
    "collapsed": true
   },
   "outputs": [],
   "source": []
  },
  {
   "cell_type": "code",
   "execution_count": null,
   "metadata": {
    "collapsed": true
   },
   "outputs": [],
   "source": []
  }
 ],
 "metadata": {
  "kernelspec": {
   "display_name": "Python 2",
   "language": "python",
   "name": "python2"
  },
  "language_info": {
   "codemirror_mode": {
    "name": "ipython",
    "version": 2
   },
   "file_extension": ".py",
   "mimetype": "text/x-python",
   "name": "python",
   "nbconvert_exporter": "python",
   "pygments_lexer": "ipython2",
   "version": "2.7.13"
  }
 },
 "nbformat": 4,
 "nbformat_minor": 1
}
